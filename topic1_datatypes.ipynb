{
 "cells": [
  {
   "cell_type": "code",
   "execution_count": 6,
   "id": "bb41501e",
   "metadata": {},
   "outputs": [
    {
     "name": "stdout",
     "output_type": "stream",
     "text": [
      "my name is umair and age is 30\n"
     ]
    }
   ],
   "source": [
    "name = 'umair'\n",
    "age = 30\n",
    "\n",
    "print(f'my name is {name} and age is {age}')"
   ]
  },
  {
   "cell_type": "code",
   "execution_count": 9,
   "id": "9d112b97",
   "metadata": {},
   "outputs": [
    {
     "name": "stdout",
     "output_type": "stream",
     "text": [
      "my fav fruit is orange\n"
     ]
    }
   ],
   "source": [
    "fav_fruit = 'orange'\n",
    "print(f'my fav fruit is {fav_fruit}')"
   ]
  },
  {
   "cell_type": "code",
   "execution_count": 12,
   "id": "aade58ec",
   "metadata": {},
   "outputs": [
    {
     "name": "stdout",
     "output_type": "stream",
     "text": [
      "my friends name is Hamza and he is from UK\n"
     ]
    }
   ],
   "source": [
    "# please write a friend name and its country and print it using f frint\n",
    "friend_name = 'Hamza'\n",
    "country = 'UK'\n",
    "print(f'my friends name is {friend_name} and he is from {country}')\n"
   ]
  },
  {
   "cell_type": "code",
   "execution_count": 13,
   "id": "45a66a8c",
   "metadata": {},
   "outputs": [
    {
     "name": "stdout",
     "output_type": "stream",
     "text": [
      "you have entered umair\n"
     ]
    }
   ],
   "source": [
    "name = input('please enter your name: ')\n",
    "print(f'you have entered {name}')"
   ]
  },
  {
   "cell_type": "code",
   "execution_count": 14,
   "id": "7d252e1e",
   "metadata": {},
   "outputs": [],
   "source": [
    "## mathematical operators "
   ]
  },
  {
   "cell_type": "code",
   "execution_count": 17,
   "id": "fac6e11c",
   "metadata": {},
   "outputs": [
    {
     "name": "stdout",
     "output_type": "stream",
     "text": [
      "sum is 80,prodiuct is 700 division is 0.14285714285714285 and difference is -60\n"
     ]
    }
   ],
   "source": [
    "x = 10\n",
    "y = 70\n",
    "s = x+y\n",
    "p = x*y\n",
    "d = x/y\n",
    "diff = x-y\n",
    "print(f'sum is {s},prodiuct is {p} division is {d} and difference is {diff}')"
   ]
  },
  {
   "cell_type": "code",
   "execution_count": 19,
   "id": "128e4a1b",
   "metadata": {},
   "outputs": [
    {
     "name": "stdout",
     "output_type": "stream",
     "text": [
      "sum is 100000000000012,prodiuct is 1200000000000000 division is 1.2e-13 and difference is -99999999999988\n"
     ]
    }
   ],
   "source": [
    "x = int( input('please enter your name:') )\n",
    "y = int( input('please enter second number:'))\n",
    "s = x+y\n",
    "p = x*y\n",
    "d = x/y\n",
    "diff = x-y\n",
    "print(f'sum is {s},prodiuct is {p} division is {d} and difference is {diff}')"
   ]
  },
  {
   "cell_type": "code",
   "execution_count": null,
   "id": "46c9b8e0",
   "metadata": {},
   "outputs": [],
   "source": []
  }
 ],
 "metadata": {
  "kernelspec": {
   "display_name": "base",
   "language": "python",
   "name": "python3"
  },
  "language_info": {
   "codemirror_mode": {
    "name": "ipython",
    "version": 3
   },
   "file_extension": ".py",
   "mimetype": "text/x-python",
   "name": "python",
   "nbconvert_exporter": "python",
   "pygments_lexer": "ipython3",
   "version": "3.13.5"
  }
 },
 "nbformat": 4,
 "nbformat_minor": 5
}
