{
 "cells": [
  {
   "cell_type": "markdown",
   "id": "3c810260",
   "metadata": {},
   "source": [
    "## how many kind of or types of data"
   ]
  },
  {
   "cell_type": "code",
   "execution_count": 2,
   "id": "c1bb7773",
   "metadata": {},
   "outputs": [],
   "source": [
    "x = 100\n",
    "y = 10.5\n",
    "z = \"Hello, World!\"\n",
    "w = True "
   ]
  },
  {
   "cell_type": "markdown",
   "id": "e160f0bd",
   "metadata": {},
   "source": [
    "## data structures"
   ]
  },
  {
   "cell_type": "code",
   "execution_count": 3,
   "id": "b2a4068a",
   "metadata": {},
   "outputs": [
    {
     "data": {
      "text/plain": [
       "['red', 'blue', 'green']"
      ]
     },
     "execution_count": 3,
     "metadata": {},
     "output_type": "execute_result"
    }
   ],
   "source": [
    "colors  = ['red','blue','green']\n",
    "colors"
   ]
  },
  {
   "cell_type": "code",
   "execution_count": 1,
   "id": "d0f647ef",
   "metadata": {},
   "outputs": [],
   "source": [
    "fruits_colors = {'apple':'red','orange':'orange'}"
   ]
  },
  {
   "cell_type": "code",
   "execution_count": 4,
   "id": "bf1b6e87",
   "metadata": {},
   "outputs": [
    {
     "name": "stdout",
     "output_type": "stream",
     "text": [
      "else\n"
     ]
    }
   ],
   "source": [
    "if False:\n",
    "    print('if is wokring')\n",
    "else:\n",
    "    print('else')"
   ]
  },
  {
   "cell_type": "code",
   "execution_count": 7,
   "id": "dfefd34e",
   "metadata": {},
   "outputs": [
    {
     "data": {
      "text/plain": [
       "False"
      ]
     },
     "execution_count": 7,
     "metadata": {},
     "output_type": "execute_result"
    }
   ],
   "source": [
    "x = 10\n",
    "y = 20\n",
    " \n",
    "x > y"
   ]
  },
  {
   "cell_type": "code",
   "execution_count": 10,
   "id": "615b2cf3",
   "metadata": {},
   "outputs": [
    {
     "name": "stdout",
     "output_type": "stream",
     "text": [
      "turn fna on\n"
     ]
    }
   ],
   "source": [
    "temp = 31\n",
    "if temp > 30:\n",
    "    print('turn fna on')\n",
    "else:\n",
    "    print('turn fan off')"
   ]
  },
  {
   "cell_type": "code",
   "execution_count": null,
   "id": "a4353aa6",
   "metadata": {},
   "outputs": [],
   "source": []
  }
 ],
 "metadata": {
  "kernelspec": {
   "display_name": "base",
   "language": "python",
   "name": "python3"
  },
  "language_info": {
   "codemirror_mode": {
    "name": "ipython",
    "version": 3
   },
   "file_extension": ".py",
   "mimetype": "text/x-python",
   "name": "python",
   "nbconvert_exporter": "python",
   "pygments_lexer": "ipython3",
   "version": "3.13.5"
  }
 },
 "nbformat": 4,
 "nbformat_minor": 5
}
